{
 "cells": [
  {
   "cell_type": "code",
   "execution_count": 25,
   "id": "46e68101",
   "metadata": {},
   "outputs": [],
   "source": [
    "from models.recognition.model import OCRModel\n",
    "from models.recognition.dataset import OCRVietnamese, ClusterRandomSampler\n",
    "from models.recognition.train import train_model\n",
    "from models.recognition.utils import process_image\n",
    "from models.recognition.vocab import Vocabulary\n",
    "from models.recognition.loss import LabelSmoothingLoss\n",
    "\n",
    "# from torch.nn import CrossEntropyLoss\n",
    "from torch.utils.data import DataLoader\n",
    "from torch.optim import AdamW\n",
    "import torch\n",
    "import os\n",
    "\n",
    "from configs.recognition_config import d_model, d_ff, num_heads, num_decoder_layers, dropout, maxlen"
   ]
  },
  {
   "cell_type": "code",
   "execution_count": 26,
   "id": "72e8a972",
   "metadata": {},
   "outputs": [
    {
     "data": {
      "text/plain": [
       "232"
      ]
     },
     "execution_count": 26,
     "metadata": {},
     "output_type": "execute_result"
    }
   ],
   "source": [
    "vocab = Vocabulary(maxlen=maxlen)\n",
    "len(vocab)"
   ]
  },
  {
   "cell_type": "code",
   "execution_count": 27,
   "id": "aa95fb13",
   "metadata": {},
   "outputs": [],
   "source": [
    "from PIL import Image"
   ]
  },
  {
   "cell_type": "code",
   "execution_count": 28,
   "id": "19dbd900",
   "metadata": {},
   "outputs": [
    {
     "data": {
      "text/plain": [
       "(5483, 5483)"
      ]
     },
     "execution_count": 28,
     "metadata": {},
     "output_type": "execute_result"
    }
   ],
   "source": [
    "root = './datasets/img/'\n",
    "train = []\n",
    "with open(root + 'annotation_train.txt', 'r') as f:\n",
    "    annotations = [l.strip().split(\"\\t\") for l in f.readlines()] \n",
    "    for image_path, text in annotations:\n",
    "        train.append({\n",
    "            'image_path': root+image_path,\n",
    "            'text': text\n",
    "        })\n",
    "        \n",
    "val = []\n",
    "with open(root + 'annotation_val_small.txt', 'r') as f:\n",
    "    valid = [l.strip().split(\"\\t\") for l in f.readlines()] \n",
    "    for image_path, text in annotations:\n",
    "        val.append({\n",
    "            'image_path': root+image_path,\n",
    "            'text': text\n",
    "        })\n",
    "\n",
    "len(train), len(val)"
   ]
  },
  {
   "cell_type": "code",
   "execution_count": 29,
   "id": "7792f329",
   "metadata": {},
   "outputs": [
    {
     "data": {
      "application/vnd.jupyter.widget-view+json": {
       "model_id": "e419655442844b75b7cc3fd5785094ca",
       "version_major": 2,
       "version_minor": 0
      },
      "text/plain": [
       "  0%|          | 0/5483 [00:00<?, ?it/s]"
      ]
     },
     "metadata": {},
     "output_type": "display_data"
    },
    {
     "data": {
      "application/vnd.jupyter.widget-view+json": {
       "model_id": "017f4e4517a34bc484770f4ead2bb166",
       "version_major": 2,
       "version_minor": 0
      },
      "text/plain": [
       "  0%|          | 0/5483 [00:00<?, ?it/s]"
      ]
     },
     "metadata": {},
     "output_type": "display_data"
    }
   ],
   "source": [
    "batch_size = 32\n",
    "\n",
    "# test_len = int(len(annotations)*0.01) #% test\n",
    "# train, test = torch.utils.data.random_split(annotations, [len(annotations)-test_len, test_len])\n",
    "\n",
    "train_dataset = OCRVietnamese(train, vocab, process_image, maxlen)\n",
    "train_sampler = ClusterRandomSampler(train_dataset, batch_size)\n",
    "train_loader = DataLoader(train_dataset, batch_size=batch_size, sampler=train_sampler)\n",
    "\n",
    "val_dataset = OCRVietnamese(val, vocab, process_image, maxlen)\n",
    "val_sampler = ClusterRandomSampler(val_dataset, batch_size)\n",
    "val_loader = DataLoader(val_dataset, batch_size=batch_size, sampler=val_sampler)"
   ]
  },
  {
   "cell_type": "code",
   "execution_count": 30,
   "id": "ca3335db",
   "metadata": {},
   "outputs": [],
   "source": [
    "model = OCRModel(\n",
    "    vocab_size=len(vocab),\n",
    "    d_model = d_model,\n",
    "    num_heads = num_heads,\n",
    "    d_ff = d_ff,\n",
    "    num_decoder_layers = num_decoder_layers,\n",
    "    dropout = dropout\n",
    ")\n",
    "\n",
    "optimizer = AdamW(model.parameters(), betas=(0.9, 0.98), eps=1e-09)\n",
    "criterion = LabelSmoothingLoss(classes=len(vocab), padding_idx=vocab.char2idx['<pad>'], smoothing=0.1)"
   ]
  },
  {
   "cell_type": "code",
   "execution_count": 31,
   "id": "ca0d1466",
   "metadata": {},
   "outputs": [],
   "source": [
    "epochs = 200\n",
    "continue_train = True"
   ]
  },
  {
   "cell_type": "code",
   "execution_count": null,
   "id": "cb6684ff",
   "metadata": {},
   "outputs": [],
   "source": [
    "model_name = f'model_weights-{epochs}'\n",
    "if os.path.exists(f'./checkpoints/recognition/{model_name}.pth'):\n",
    "    state_dict = torch.load(f'./checkpoints/recognition/{model_name}.pth')\n",
    "    model.load_state_dict(state_dict)\n",
    "    print('weights loaded')\n",
    "    \n",
    "if continue_train:\n",
    "    train_model(model, train_loader, optimizer, criterion, vocab, epochs) # đang train với test_loader\n",
    "    torch.save(model.state_dict(), f'./checkpoints/recognition/{model_name}.pth')"
   ]
  },
  {
   "cell_type": "code",
   "execution_count": null,
   "id": "72dd9ebe",
   "metadata": {},
   "outputs": [],
   "source": [
    "# from models.recognition.eval import evaluate\n",
    "# device = 'cpu'\n",
    "# model.to(device)\n",
    "# avg_loss, acc = evaluate(model, test_loader, criterion, device, vocab)"
   ]
  },
  {
   "cell_type": "markdown",
   "id": "c83aaeb4",
   "metadata": {},
   "source": [
    "# infer"
   ]
  },
  {
   "cell_type": "code",
   "execution_count": 35,
   "id": "87332e4d",
   "metadata": {},
   "outputs": [
    {
     "name": "stdout",
     "output_type": "stream",
     "text": [
      "actual:  châu Úc với Trung Đông. Giao lưu quốc tế thuận lợi, phát triển ngành biển.\n",
      "generated:  châu Úc với Trung Đông. Giao lưu quốc tế thuận lợi, phát triển ngành biển.\n"
     ]
    },
    {
     "data": {
      "image/png": "[encoded data removed]",
      "text/plain": [
       "<Figure size 1500x1000 with 3 Axes>"
      ]
     },
     "metadata": {},
     "output_type": "display_data"
    }
   ],
   "source": [
    "img, txt, path = val_dataset.get_random_image()\n",
    "\n",
    "model = model.to('mps')\n",
    "image = img.to('mps')\n",
    "\n",
    "pred_txt, f ,a  = model.generate_text(image.unsqueeze(0), vocab)\n",
    "model.visualize_attention(img, txt, pred_txt[0], f, a)"
   ]
  },
  {
   "cell_type": "code",
   "execution_count": null,
   "id": "8d4aa2ae",
   "metadata": {},
   "outputs": [],
   "source": []
  },
  {
   "cell_type": "code",
   "execution_count": null,
   "id": "608073c9",
   "metadata": {},
   "outputs": [],
   "source": []
  },
  {
   "cell_type": "code",
   "execution_count": null,
   "id": "8fa50dde",
   "metadata": {},
   "outputs": [],
   "source": []
  }
 ],
 "metadata": {
  "kernelspec": {
   "display_name": ".venv",
   "language": "python",
   "name": "python3"
  },
  "language_info": {
   "codemirror_mode": {
    "name": "ipython",
    "version": 3
   },
   "file_extension": ".py",
   "mimetype": "text/x-python",
   "name": "python",
   "nbconvert_exporter": "python",
   "pygments_lexer": "ipython3",
   "version": "3.10.9"
  }
 },
 "nbformat": 4,
 "nbformat_minor": 5
}
