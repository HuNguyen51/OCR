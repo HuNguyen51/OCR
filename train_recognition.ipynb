{
 "cells": [
  {
   "cell_type": "code",
   "execution_count": 1,
   "id": "46e68101",
   "metadata": {},
   "outputs": [
    {
     "data": {
      "text/plain": [
       "232"
      ]
     },
     "execution_count": 1,
     "metadata": {},
     "output_type": "execute_result"
    }
   ],
   "source": [
    "from modules.recognition.model import OCRModel\n",
    "from modules.recognition.dataset import OCRVietnamese, ClusterRandomSampler\n",
    "from modules.recognition.train import train_model\n",
    "from modules.recognition.utils import process_image\n",
    "from modules.recognition.vocab import Vocabulary\n",
    "from modules.recognition.loss import LabelSmoothingLoss\n",
    "\n",
    "from torch.utils.data import DataLoader\n",
    "from torch.optim import AdamW\n",
    "import torch\n",
    "import os\n",
    "\n",
    "from configs.recognition_config import d_model, d_ff, num_heads, num_decoder_layers, dropout, maxlen, device\n",
    "\n",
    "vocab = Vocabulary(maxlen=maxlen)\n",
    "vocab_size = len(vocab)\n",
    "vocab_size"
   ]
  },
  {
   "cell_type": "code",
   "execution_count": 2,
   "id": "19dbd900",
   "metadata": {},
   "outputs": [
    {
     "data": {
      "text/plain": [
       "(5483, 5483)"
      ]
     },
     "execution_count": 2,
     "metadata": {},
     "output_type": "execute_result"
    }
   ],
   "source": [
    "root = './datasets/img/'\n",
    "train = []\n",
    "with open(root + 'annotation_train.txt', 'r') as f:\n",
    "    annotations = [l.strip().split(\"\\t\") for l in f.readlines()] \n",
    "    for image_path, text in annotations:\n",
    "        train.append({\n",
    "            'image_path': root+image_path,\n",
    "            'text': text\n",
    "        })\n",
    "        \n",
    "val = []\n",
    "with open(root + 'annotation_val_small.txt', 'r') as f:\n",
    "    valid = [l.strip().split(\"\\t\") for l in f.readlines()] \n",
    "    for image_path, text in annotations:\n",
    "        val.append({\n",
    "            'image_path': root+image_path,\n",
    "            'text': text\n",
    "        })\n",
    "\n",
    "len(train), len(val)"
   ]
  },
  {
   "cell_type": "code",
   "execution_count": 3,
   "id": "7792f329",
   "metadata": {},
   "outputs": [
    {
     "data": {
      "application/vnd.jupyter.widget-view+json": {
       "model_id": "98e7f9d47e8142da8483817f1944960b",
       "version_major": 2,
       "version_minor": 0
      },
      "text/plain": [
       "  0%|          | 0/5483 [00:00<?, ?it/s]"
      ]
     },
     "metadata": {},
     "output_type": "display_data"
    },
    {
     "data": {
      "application/vnd.jupyter.widget-view+json": {
       "model_id": "b0ebf85304ac4cd7926ad6629bac0192",
       "version_major": 2,
       "version_minor": 0
      },
      "text/plain": [
       "  0%|          | 0/5483 [00:00<?, ?it/s]"
      ]
     },
     "metadata": {},
     "output_type": "display_data"
    }
   ],
   "source": [
    "batch_size = 32\n",
    "\n",
    "# test_len = int(len(annotations)*0.01) #% test\n",
    "# train, test = torch.utils.data.random_split(annotations, [len(annotations)-test_len, test_len])\n",
    "\n",
    "train_dataset = OCRVietnamese(train, vocab, process_image, maxlen)\n",
    "train_sampler = ClusterRandomSampler(train_dataset, batch_size)\n",
    "train_loader = DataLoader(train_dataset, batch_size=batch_size, sampler=train_sampler)\n",
    "\n",
    "val_dataset = OCRVietnamese(val, vocab, process_image, maxlen)\n",
    "val_sampler = ClusterRandomSampler(val_dataset, batch_size)\n",
    "val_loader = DataLoader(val_dataset, batch_size=batch_size, sampler=val_sampler)"
   ]
  },
  {
   "cell_type": "code",
   "execution_count": 4,
   "id": "ca3335db",
   "metadata": {},
   "outputs": [],
   "source": [
    "model = OCRModel(\n",
    "    vocab_size=vocab_size,\n",
    "    d_model = d_model,\n",
    "    num_heads = num_heads,\n",
    "    d_ff = d_ff,\n",
    "    num_decoder_layers = num_decoder_layers,\n",
    "    dropout = dropout\n",
    ")\n",
    "\n",
    "optimizer = AdamW(model.parameters(), betas=(0.9, 0.98), eps=1e-09)\n",
    "criterion = LabelSmoothingLoss(classes=vocab_size, padding_idx=vocab.char2idx['<pad>'], smoothing=0.1)"
   ]
  },
  {
   "cell_type": "code",
   "execution_count": 5,
   "id": "ca0d1466",
   "metadata": {},
   "outputs": [],
   "source": [
    "epochs = 20\n",
    "is_train = True"
   ]
  },
  {
   "cell_type": "code",
   "execution_count": 6,
   "id": "cb6684ff",
   "metadata": {},
   "outputs": [
    {
     "data": {
      "application/vnd.jupyter.widget-view+json": {
       "model_id": "40889ad7adbe41af89a8bec8d7f7348d",
       "version_major": 2,
       "version_minor": 0
      },
      "text/plain": [
       "  0%|          | 0/172 [00:00<?, ?it/s]"
      ]
     },
     "metadata": {},
     "output_type": "display_data"
    },
    {
     "name": "stderr",
     "output_type": "stream",
     "text": [
      "/Users/hung/Desktop/OCR/.venv/lib/python3.10/site-packages/torch/nn/functional.py:5962: UserWarning: Support for mismatched key_padding_mask and attn_mask is deprecated. Use same type for both instead.\n",
      "  warnings.warn(\n"
     ]
    },
    {
     "name": "stdout",
     "output_type": "stream",
     "text": [
      "Epoch: [1/20], Average Loss: 1.0306\n",
      "Avg Accuracy per char: 0.0253, , Avg Accuracy full seq: 0.0117\n"
     ]
    },
    {
     "data": {
      "application/vnd.jupyter.widget-view+json": {
       "model_id": "ba8455b63c174095b164ca98b6485898",
       "version_major": 2,
       "version_minor": 0
      },
      "text/plain": [
       "  0%|          | 0/172 [00:00<?, ?it/s]"
      ]
     },
     "metadata": {},
     "output_type": "display_data"
    },
    {
     "name": "stdout",
     "output_type": "stream",
     "text": [
      "Epoch: [2/20], Average Loss: 0.8088\n",
      "Avg Accuracy per char: 0.1116, , Avg Accuracy full seq: 0.0833\n"
     ]
    },
    {
     "data": {
      "application/vnd.jupyter.widget-view+json": {
       "model_id": "6c40b64344f84900972355e6480606bf",
       "version_major": 2,
       "version_minor": 0
      },
      "text/plain": [
       "  0%|          | 0/172 [00:00<?, ?it/s]"
      ]
     },
     "metadata": {},
     "output_type": "display_data"
    },
    {
     "ename": "KeyboardInterrupt",
     "evalue": "",
     "output_type": "error",
     "traceback": [
      "\u001b[0;31m---------------------------------------------------------------------------\u001b[0m",
      "\u001b[0;31mKeyboardInterrupt\u001b[0m                         Traceback (most recent call last)",
      "Cell \u001b[0;32mIn[6], line 8\u001b[0m\n\u001b[1;32m      5\u001b[0m     \u001b[38;5;28mprint\u001b[39m(\u001b[38;5;124m'\u001b[39m\u001b[38;5;124mweights loaded\u001b[39m\u001b[38;5;124m'\u001b[39m)\n\u001b[1;32m      7\u001b[0m \u001b[38;5;28;01mif\u001b[39;00m is_train:\n\u001b[0;32m----> 8\u001b[0m     \u001b[43mtrain_model\u001b[49m\u001b[43m(\u001b[49m\u001b[43mmodel\u001b[49m\u001b[43m,\u001b[49m\u001b[43m \u001b[49m\u001b[43mtrain_loader\u001b[49m\u001b[43m,\u001b[49m\u001b[43m \u001b[49m\u001b[43moptimizer\u001b[49m\u001b[43m,\u001b[49m\u001b[43m \u001b[49m\u001b[43mcriterion\u001b[49m\u001b[43m,\u001b[49m\u001b[43m \u001b[49m\u001b[43mdevice\u001b[49m\u001b[43m,\u001b[49m\u001b[43m \u001b[49m\u001b[43mvocab\u001b[49m\u001b[43m,\u001b[49m\u001b[43m \u001b[49m\u001b[43mepochs\u001b[49m\u001b[43m)\u001b[49m \u001b[38;5;66;03m# đang train với test_loader\u001b[39;00m\n\u001b[1;32m      9\u001b[0m     torch\u001b[38;5;241m.\u001b[39msave(model\u001b[38;5;241m.\u001b[39mstate_dict(), \u001b[38;5;124mf\u001b[39m\u001b[38;5;124m'\u001b[39m\u001b[38;5;124m./checkpoints/recognition/\u001b[39m\u001b[38;5;132;01m{\u001b[39;00mmodel_name\u001b[38;5;132;01m}\u001b[39;00m\u001b[38;5;124m.pth\u001b[39m\u001b[38;5;124m'\u001b[39m)\n",
      "File \u001b[0;32m~/Desktop/OCR/modules/recognition/train.py:67\u001b[0m, in \u001b[0;36mtrain_model\u001b[0;34m(model, train_loader, optimizer, criterion, device, vocab, epochs)\u001b[0m\n\u001b[1;32m     65\u001b[0m \u001b[38;5;66;03m# Xử lý targets\u001b[39;00m\n\u001b[1;32m     66\u001b[0m \u001b[38;5;28;01mfor\u001b[39;00m i \u001b[38;5;129;01min\u001b[39;00m \u001b[38;5;28mrange\u001b[39m(batch_size):\n\u001b[0;32m---> 67\u001b[0m     target_text \u001b[38;5;241m=\u001b[39m \u001b[38;5;124m'\u001b[39m\u001b[38;5;124m'\u001b[39m\u001b[38;5;241m.\u001b[39mjoin([vocab\u001b[38;5;241m.\u001b[39midx2char[idx\u001b[38;5;241m.\u001b[39mitem()] \n\u001b[1;32m     68\u001b[0m                         \u001b[38;5;28;01mfor\u001b[39;00m idx \u001b[38;5;129;01min\u001b[39;00m targets[i] \u001b[38;5;28;01mif\u001b[39;00m idx\u001b[38;5;241m.\u001b[39mitem() \u001b[38;5;129;01mnot\u001b[39;00m \u001b[38;5;129;01min\u001b[39;00m special_tokens])\n\u001b[1;32m     69\u001b[0m     target_texts\u001b[38;5;241m.\u001b[39mappend(target_text)\n\u001b[1;32m     71\u001b[0m \u001b[38;5;66;03m# Tính toán độ chính xác ký tự\u001b[39;00m\n",
      "File \u001b[0;32m~/Desktop/OCR/modules/recognition/train.py:68\u001b[0m, in \u001b[0;36m<listcomp>\u001b[0;34m(.0)\u001b[0m\n\u001b[1;32m     65\u001b[0m \u001b[38;5;66;03m# Xử lý targets\u001b[39;00m\n\u001b[1;32m     66\u001b[0m \u001b[38;5;28;01mfor\u001b[39;00m i \u001b[38;5;129;01min\u001b[39;00m \u001b[38;5;28mrange\u001b[39m(batch_size):\n\u001b[1;32m     67\u001b[0m     target_text \u001b[38;5;241m=\u001b[39m \u001b[38;5;124m'\u001b[39m\u001b[38;5;124m'\u001b[39m\u001b[38;5;241m.\u001b[39mjoin([vocab\u001b[38;5;241m.\u001b[39midx2char[idx\u001b[38;5;241m.\u001b[39mitem()] \n\u001b[0;32m---> 68\u001b[0m                         \u001b[38;5;28;01mfor\u001b[39;00m idx \u001b[38;5;129;01min\u001b[39;00m targets[i] \u001b[38;5;28;01mif\u001b[39;00m \u001b[43midx\u001b[49m\u001b[38;5;241;43m.\u001b[39;49m\u001b[43mitem\u001b[49m\u001b[43m(\u001b[49m\u001b[43m)\u001b[49m \u001b[38;5;129;01mnot\u001b[39;00m \u001b[38;5;129;01min\u001b[39;00m special_tokens])\n\u001b[1;32m     69\u001b[0m     target_texts\u001b[38;5;241m.\u001b[39mappend(target_text)\n\u001b[1;32m     71\u001b[0m \u001b[38;5;66;03m# Tính toán độ chính xác ký tự\u001b[39;00m\n",
      "\u001b[0;31mKeyboardInterrupt\u001b[0m: "
     ]
    }
   ],
   "source": [
    "model_name = f'model_weights-{epochs}'\n",
    "if os.path.exists(f'./checkpoints/recognition/{model_name}.pth'):\n",
    "    state_dict = torch.load(f'./checkpoints/recognition/{model_name}.pth')\n",
    "    model.load_state_dict(state_dict)\n",
    "    print('weights loaded')\n",
    "    \n",
    "if is_train:\n",
    "    train_model(model, train_loader, optimizer, criterion, device, vocab, epochs) # đang train với test_loader\n",
    "    torch.save(model.state_dict(), f'./checkpoints/recognition/{model_name}.pth')"
   ]
  },
  {
   "cell_type": "code",
   "execution_count": null,
   "id": "72dd9ebe",
   "metadata": {},
   "outputs": [],
   "source": [
    "from modules.recognition.eval import evaluate\n",
    "# avg_loss, acc_per_char, acc_full_seq = evaluate(model, val_loader, criterion, device, vocab)\n",
    "# 18m53s\n",
    "# Evaluation - Avg Loss: 0.2314, Avg Accuracy per char: 25.0548, , Avg Accuracy full seq: 24.8388"
   ]
  },
  {
   "cell_type": "markdown",
   "id": "c83aaeb4",
   "metadata": {},
   "source": [
    "# infer"
   ]
  },
  {
   "cell_type": "code",
   "execution_count": null,
   "id": "87332e4d",
   "metadata": {},
   "outputs": [
    {
     "name": "stdout",
     "output_type": "stream",
     "text": [
      "actual:  bị mất sạch giấy tờ và phải quay về quê vất vả hoàn tất rất\n",
      "generated:  bị mất sạch giấy tờ và phải quay về quê vất vả hoàn tất rất\n"
     ]
    },
    {
     "data": {
      "image/png": "[encoded data removed]",
      "text/plain": [
       "<Figure size 1500x1000 with 3 Axes>"
      ]
     },
     "metadata": {},
     "output_type": "display_data"
    }
   ],
   "source": [
    "img, txt, path = val_dataset.get_random_image()\n",
    "\n",
    "pred_txt, f ,a  = model.generate_text(img.unsqueeze(0), vocab)\n",
    "model.visualize_attention(img, txt, pred_txt[0], f, a)"
   ]
  },
  {
   "cell_type": "code",
   "execution_count": null,
   "id": "8d4aa2ae",
   "metadata": {},
   "outputs": [],
   "source": []
  },
  {
   "cell_type": "code",
   "execution_count": null,
   "id": "608073c9",
   "metadata": {},
   "outputs": [],
   "source": []
  },
  {
   "cell_type": "code",
   "execution_count": null,
   "id": "8fa50dde",
   "metadata": {},
   "outputs": [],
   "source": []
  }
 ],
 "metadata": {
  "kernelspec": {
   "display_name": ".venv",
   "language": "python",
   "name": "python3"
  },
  "language_info": {
   "codemirror_mode": {
    "name": "ipython",
    "version": 3
   },
   "file_extension": ".py",
   "mimetype": "text/x-python",
   "name": "python",
   "nbconvert_exporter": "python",
   "pygments_lexer": "ipython3",
   "version": "3.10.9"
  }
 },
 "nbformat": 4,
 "nbformat_minor": 5
}
