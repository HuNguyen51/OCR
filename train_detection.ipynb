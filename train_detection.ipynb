{
 "cells": [
  {
   "cell_type": "code",
   "execution_count": 1,
   "id": "b1610265",
   "metadata": {},
   "outputs": [],
   "source": [
    "import ujson\n",
    "data_path = './datasets/MSRA-TD500/annotations.json'\n",
    "with open(data_path, \"r\") as f:\n",
    "    data = ujson.load(f)"
   ]
  },
  {
   "cell_type": "code",
   "execution_count": 5,
   "id": "64fa2e9a",
   "metadata": {},
   "outputs": [],
   "source": [
    "import torch\n",
    "from torch.utils.data import DataLoader\n",
    "from configs.detection_config import epochs,batch_size,feature_size,pretrained,learning_rate,weight_decay"
   ]
  },
  {
   "cell_type": "code",
   "execution_count": null,
   "id": "8a13a432",
   "metadata": {},
   "outputs": [],
   "source": [
    "from modules.detection.dataset import MSRATD500Dataset\n",
    "from modules.detection.model import TextDetector\n",
    "from modules.detection.train import train_model"
   ]
  },
  {
   "cell_type": "code",
   "execution_count": 8,
   "id": "7e2db588",
   "metadata": {},
   "outputs": [
    {
     "name": "stderr",
     "output_type": "stream",
     "text": [
      "/Users/hung/Desktop/OCR/.venv/lib/python3.10/site-packages/torchvision/models/_utils.py:208: UserWarning: The parameter 'pretrained' is deprecated since 0.13 and may be removed in the future, please use 'weights' instead.\n",
      "  warnings.warn(\n",
      "/Users/hung/Desktop/OCR/.venv/lib/python3.10/site-packages/torchvision/models/_utils.py:223: UserWarning: Arguments other than a weight enum or `None` for 'weights' are deprecated since 0.13 and may be removed in the future. The current behavior is equivalent to passing `weights=VGG16_Weights.IMAGENET1K_V1`. You can also use `weights=VGG16_Weights.DEFAULT` to get the most up-to-date weights.\n",
      "  warnings.warn(msg)\n"
     ]
    }
   ],
   "source": [
    "train_dataset = MSRATD500Dataset(data, 'train')\n",
    "train_loader = DataLoader(train_dataset, batch_size=batch_size, shuffle=True)\n",
    "\n",
    "model = TextDetector(\n",
    "    pretrained = pretrained,\n",
    "    feature_size=feature_size\n",
    ")\n",
    "\n",
    "optimizer = torch.optim.Adam(model.parameters(), lr=learning_rate, weight_decay=weight_decay)\n",
    "criterion = torch.nn.BCELoss()\n",
    "\n",
    "train_model(model, train_loader, optimizer, criterion, epochs)\n"
   ]
  },
  {
   "cell_type": "code",
   "execution_count": null,
   "id": "e2ff8866",
   "metadata": {},
   "outputs": [],
   "source": [
    "torch.save(model.state_dict(), \"checkpoints/detection/model-self.pth\")"
   ]
  },
  {
   "cell_type": "code",
   "execution_count": null,
   "id": "003cf281",
   "metadata": {},
   "outputs": [],
   "source": []
  }
 ],
 "metadata": {
  "kernelspec": {
   "display_name": ".venv",
   "language": "python",
   "name": "python3"
  },
  "language_info": {
   "codemirror_mode": {
    "name": "ipython",
    "version": 3
   },
   "file_extension": ".py",
   "mimetype": "text/x-python",
   "name": "python",
   "nbconvert_exporter": "python",
   "pygments_lexer": "ipython3",
   "version": "3.10.9"
  }
 },
 "nbformat": 4,
 "nbformat_minor": 5
}
