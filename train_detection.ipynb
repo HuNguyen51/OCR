{
 "cells": [
  {
   "cell_type": "code",
   "execution_count": 12,
   "id": "b1610265",
   "metadata": {},
   "outputs": [],
   "source": [
    "import ujson\n",
    "data_path = './datasets/MSRA-TD500/annotations.json'\n",
    "with open(data_path, \"r\") as f:\n",
    "    data = ujson.load(f)"
   ]
  },
  {
   "cell_type": "code",
   "execution_count": 13,
   "id": "64fa2e9a",
   "metadata": {},
   "outputs": [],
   "source": [
    "import torch\n",
    "from models.detection.dataset import DataLoader\n",
    "from configs.detection_config import epochs,batch_size,feature_size,pretrained,learning_rate,weight_decay"
   ]
  },
  {
   "cell_type": "code",
   "execution_count": 14,
   "id": "8a13a432",
   "metadata": {},
   "outputs": [],
   "source": [
    "from models.detection.dataset import MSRATD500Dataset\n",
    "from models.detection.model import TextDetector\n",
    "from models.detection.train import train_model"
   ]
  },
  {
   "cell_type": "code",
   "execution_count": null,
   "id": "7e2db588",
   "metadata": {},
   "outputs": [
    {
     "name": "stderr",
     "output_type": "stream",
     "text": [
      "/Users/hung/Desktop/OCR/.venv/lib/python3.10/site-packages/torchvision/models/_utils.py:208: UserWarning: The parameter 'pretrained' is deprecated since 0.13 and may be removed in the future, please use 'weights' instead.\n",
      "  warnings.warn(\n",
      "/Users/hung/Desktop/OCR/.venv/lib/python3.10/site-packages/torchvision/models/_utils.py:223: UserWarning: Arguments other than a weight enum or `None` for 'weights' are deprecated since 0.13 and may be removed in the future. The current behavior is equivalent to passing `weights=VGG16_Weights.IMAGENET1K_V1`. You can also use `weights=VGG16_Weights.DEFAULT` to get the most up-to-date weights.\n",
      "  warnings.warn(msg)\n"
     ]
    },
    {
     "data": {
      "application/vnd.jupyter.widget-view+json": {
       "model_id": "290fb1f6043c41ad8bff87e9aad01704",
       "version_major": 2,
       "version_minor": 0
      },
      "text/plain": [
       "  0%|          | 0/150 [00:00<?, ?it/s]"
      ]
     },
     "metadata": {},
     "output_type": "display_data"
    },
    {
     "name": "stdout",
     "output_type": "stream",
     "text": [
      "Epoch: [1/10], Batch: [25/150], Loss: 3.0574\n",
      "Epoch: [1/10], Batch: [50/150], Loss: 2.5568\n",
      "Epoch: [1/10], Batch: [75/150], Loss: 1.8263\n",
      "Epoch: [1/10], Batch: [100/150], Loss: 2.3091\n",
      "Epoch: [1/10], Batch: [125/150], Loss: 1.5021\n",
      "Epoch: [1/10], Batch: [150/150], Loss: 1.3572\n",
      "Epoch: [1/10], Average Loss: 2.2506\n"
     ]
    },
    {
     "data": {
      "application/vnd.jupyter.widget-view+json": {
       "model_id": "9603787738ab48ce81c4cfb0c941e1c6",
       "version_major": 2,
       "version_minor": 0
      },
      "text/plain": [
       "  0%|          | 0/150 [00:00<?, ?it/s]"
      ]
     },
     "metadata": {},
     "output_type": "display_data"
    },
    {
     "name": "stdout",
     "output_type": "stream",
     "text": [
      "Epoch: [2/10], Batch: [25/150], Loss: 1.2487\n",
      "Epoch: [2/10], Batch: [50/150], Loss: 1.0813\n",
      "Epoch: [2/10], Batch: [75/150], Loss: 1.2074\n",
      "Epoch: [2/10], Batch: [100/150], Loss: 1.4055\n",
      "Epoch: [2/10], Batch: [125/150], Loss: 0.9142\n",
      "Epoch: [2/10], Batch: [150/150], Loss: 0.9582\n",
      "Epoch: [2/10], Average Loss: 1.2555\n"
     ]
    },
    {
     "data": {
      "application/vnd.jupyter.widget-view+json": {
       "model_id": "238126460aa043b782cbcc8ffbec3a4a",
       "version_major": 2,
       "version_minor": 0
      },
      "text/plain": [
       "  0%|          | 0/150 [00:00<?, ?it/s]"
      ]
     },
     "metadata": {},
     "output_type": "display_data"
    },
    {
     "name": "stdout",
     "output_type": "stream",
     "text": [
      "Epoch: [3/10], Batch: [25/150], Loss: 1.0237\n",
      "Epoch: [3/10], Batch: [50/150], Loss: 1.2511\n",
      "Epoch: [3/10], Batch: [75/150], Loss: 1.0537\n",
      "Epoch: [3/10], Batch: [100/150], Loss: 0.7579\n",
      "Epoch: [3/10], Batch: [125/150], Loss: 0.9603\n",
      "Epoch: [3/10], Batch: [150/150], Loss: 0.6001\n",
      "Epoch: [3/10], Average Loss: 0.9582\n"
     ]
    },
    {
     "data": {
      "application/vnd.jupyter.widget-view+json": {
       "model_id": "6d56f092a13a4a3a8f6125a54f1e7312",
       "version_major": 2,
       "version_minor": 0
      },
      "text/plain": [
       "  0%|          | 0/150 [00:00<?, ?it/s]"
      ]
     },
     "metadata": {},
     "output_type": "display_data"
    },
    {
     "name": "stdout",
     "output_type": "stream",
     "text": [
      "Epoch: [4/10], Batch: [25/150], Loss: 0.5554\n",
      "Epoch: [4/10], Batch: [50/150], Loss: 0.7066\n",
      "Epoch: [4/10], Batch: [75/150], Loss: 0.7141\n",
      "Epoch: [4/10], Batch: [100/150], Loss: 0.5972\n",
      "Epoch: [4/10], Batch: [125/150], Loss: 0.7413\n",
      "Epoch: [4/10], Batch: [150/150], Loss: 0.9446\n",
      "Epoch: [4/10], Average Loss: 0.8088\n"
     ]
    },
    {
     "data": {
      "application/vnd.jupyter.widget-view+json": {
       "model_id": "c57b790fc43b4dd685480854fee8516e",
       "version_major": 2,
       "version_minor": 0
      },
      "text/plain": [
       "  0%|          | 0/150 [00:00<?, ?it/s]"
      ]
     },
     "metadata": {},
     "output_type": "display_data"
    },
    {
     "name": "stdout",
     "output_type": "stream",
     "text": [
      "Epoch: [5/10], Batch: [25/150], Loss: 0.9126\n",
      "Epoch: [5/10], Batch: [50/150], Loss: 0.5399\n",
      "Epoch: [5/10], Batch: [75/150], Loss: 0.4442\n",
      "Epoch: [5/10], Batch: [100/150], Loss: 0.8153\n",
      "Epoch: [5/10], Batch: [125/150], Loss: 0.3898\n",
      "Epoch: [5/10], Batch: [150/150], Loss: 0.7809\n",
      "Epoch: [5/10], Average Loss: 0.7223\n"
     ]
    },
    {
     "data": {
      "application/vnd.jupyter.widget-view+json": {
       "model_id": "f7ecc2a966e4487887b6428577fea82b",
       "version_major": 2,
       "version_minor": 0
      },
      "text/plain": [
       "  0%|          | 0/150 [00:00<?, ?it/s]"
      ]
     },
     "metadata": {},
     "output_type": "display_data"
    },
    {
     "name": "stdout",
     "output_type": "stream",
     "text": [
      "Epoch: [6/10], Batch: [25/150], Loss: 0.6650\n",
      "Epoch: [6/10], Batch: [50/150], Loss: 1.0588\n",
      "Epoch: [6/10], Batch: [75/150], Loss: 0.7513\n",
      "Epoch: [6/10], Batch: [100/150], Loss: 0.3866\n",
      "Epoch: [6/10], Batch: [125/150], Loss: 0.7702\n",
      "Epoch: [6/10], Batch: [150/150], Loss: 0.6731\n",
      "Epoch: [6/10], Average Loss: 0.6385\n"
     ]
    },
    {
     "data": {
      "application/vnd.jupyter.widget-view+json": {
       "model_id": "8f43b6680c10483e8f401815b7439ba6",
       "version_major": 2,
       "version_minor": 0
      },
      "text/plain": [
       "  0%|          | 0/150 [00:00<?, ?it/s]"
      ]
     },
     "metadata": {},
     "output_type": "display_data"
    },
    {
     "name": "stdout",
     "output_type": "stream",
     "text": [
      "Epoch: [7/10], Batch: [25/150], Loss: 0.4165\n",
      "Epoch: [7/10], Batch: [50/150], Loss: 0.5657\n",
      "Epoch: [7/10], Batch: [75/150], Loss: 1.3526\n",
      "Epoch: [7/10], Batch: [100/150], Loss: 0.7189\n",
      "Epoch: [7/10], Batch: [125/150], Loss: 0.8267\n",
      "Epoch: [7/10], Batch: [150/150], Loss: 1.6197\n",
      "Epoch: [7/10], Average Loss: 0.6129\n"
     ]
    },
    {
     "data": {
      "application/vnd.jupyter.widget-view+json": {
       "model_id": "8be8512e3633470e9e37e380798832ff",
       "version_major": 2,
       "version_minor": 0
      },
      "text/plain": [
       "  0%|          | 0/150 [00:00<?, ?it/s]"
      ]
     },
     "metadata": {},
     "output_type": "display_data"
    },
    {
     "name": "stdout",
     "output_type": "stream",
     "text": [
      "Epoch: [8/10], Batch: [25/150], Loss: 0.3977\n",
      "Epoch: [8/10], Batch: [50/150], Loss: 0.6414\n",
      "Epoch: [8/10], Batch: [75/150], Loss: 0.4173\n",
      "Epoch: [8/10], Batch: [100/150], Loss: 0.4747\n",
      "Epoch: [8/10], Batch: [125/150], Loss: 0.6858\n",
      "Epoch: [8/10], Batch: [150/150], Loss: 1.0621\n",
      "Epoch: [8/10], Average Loss: 0.5769\n"
     ]
    },
    {
     "data": {
      "application/vnd.jupyter.widget-view+json": {
       "model_id": "d9c6df4c6aff4e9b907ed5eab91ba680",
       "version_major": 2,
       "version_minor": 0
      },
      "text/plain": [
       "  0%|          | 0/150 [00:00<?, ?it/s]"
      ]
     },
     "metadata": {},
     "output_type": "display_data"
    },
    {
     "name": "stdout",
     "output_type": "stream",
     "text": [
      "Epoch: [9/10], Batch: [25/150], Loss: 0.8688\n",
      "Epoch: [9/10], Batch: [50/150], Loss: 0.5258\n",
      "Epoch: [9/10], Batch: [75/150], Loss: 0.7419\n",
      "Epoch: [9/10], Batch: [100/150], Loss: 0.8381\n",
      "Epoch: [9/10], Batch: [125/150], Loss: 0.6497\n",
      "Epoch: [9/10], Batch: [150/150], Loss: 0.3387\n",
      "Epoch: [9/10], Average Loss: 0.5444\n"
     ]
    },
    {
     "data": {
      "application/vnd.jupyter.widget-view+json": {
       "model_id": "8d752882ede844038ca7c913af49f2f7",
       "version_major": 2,
       "version_minor": 0
      },
      "text/plain": [
       "  0%|          | 0/150 [00:00<?, ?it/s]"
      ]
     },
     "metadata": {},
     "output_type": "display_data"
    },
    {
     "name": "stdout",
     "output_type": "stream",
     "text": [
      "Epoch: [10/10], Batch: [25/150], Loss: 0.4037\n",
      "Epoch: [10/10], Batch: [50/150], Loss: 0.3805\n",
      "Epoch: [10/10], Batch: [75/150], Loss: 0.6358\n",
      "Epoch: [10/10], Batch: [100/150], Loss: 0.2870\n",
      "Epoch: [10/10], Batch: [125/150], Loss: 0.5219\n",
      "Epoch: [10/10], Batch: [150/150], Loss: 0.6321\n",
      "Epoch: [10/10], Average Loss: 0.5344\n"
     ]
    }
   ],
   "source": [
    "epochs = epochs\n",
    "batch_size = batch_size\n",
    "\n",
    "train_dataset = MSRATD500Dataset(data, 'train')\n",
    "train_loader = DataLoader(train_dataset, batch_size=batch_size, shuffle=True)\n",
    "\n",
    "model = TextDetector(\n",
    "    pretrained = pretrained,\n",
    "    feature_size=feature_size\n",
    ")\n",
    "\n",
    "optimizer = torch.optim.Adam(model.parameters(), lr=learning_rate, weight_decay=weight_decay)\n",
    "criterion = torch.nn.BCELoss()\n",
    "\n",
    "train_model(model, train_loader, optimizer, criterion, epochs)\n"
   ]
  },
  {
   "cell_type": "code",
   "execution_count": 11,
   "id": "e2ff8866",
   "metadata": {},
   "outputs": [],
   "source": [
    "torch.save(model, 'checkpoints/detection/model-self-20.pth')"
   ]
  },
  {
   "cell_type": "markdown",
   "id": "de742635",
   "metadata": {},
   "source": [
    "# EAST"
   ]
  },
  {
   "cell_type": "code",
   "execution_count": 6,
   "id": "7c40b8cb",
   "metadata": {},
   "outputs": [],
   "source": [
    "from models.detection.dataset import MSRADataset\n",
    "from models.detection.model import EAST\n",
    "from models.detection.loss import EASTLoss\n",
    "from models.detection.train import train_east"
   ]
  },
  {
   "cell_type": "code",
   "execution_count": null,
   "id": "f59f1073",
   "metadata": {},
   "outputs": [],
   "source": [
    "# train_dataset = MSRADataset(data, 'train')\n",
    "# train_loader = DataLoader(train_dataset, batch_size=batch_size, shuffle=True)\n",
    "\n",
    "# model = EAST(\n",
    "#     pretrained = pretrained,\n",
    "#     feature_size=feature_size\n",
    "# )\n",
    "\n",
    "# optimizer = torch.optim.Adam(model.parameters(), lr=learning_rate, weight_decay=weight_decay)\n",
    "# criterion = EASTLoss()\n",
    "    \n",
    "# train_east(model, train_loader, optimizer, criterion, epochs)\n"
   ]
  },
  {
   "cell_type": "code",
   "execution_count": null,
   "id": "eda4a365",
   "metadata": {},
   "outputs": [],
   "source": []
  }
 ],
 "metadata": {
  "kernelspec": {
   "display_name": ".venv",
   "language": "python",
   "name": "python3"
  },
  "language_info": {
   "codemirror_mode": {
    "name": "ipython",
    "version": 3
   },
   "file_extension": ".py",
   "mimetype": "text/x-python",
   "name": "python",
   "nbconvert_exporter": "python",
   "pygments_lexer": "ipython3",
   "version": "3.10.9"
  }
 },
 "nbformat": 4,
 "nbformat_minor": 5
}
